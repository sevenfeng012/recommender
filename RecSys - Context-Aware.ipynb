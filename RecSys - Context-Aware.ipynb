{
 "cells": [
  {
   "cell_type": "markdown",
   "metadata": {
    "collapsed": true
   },
   "source": [
    "These recommender systems are next generation recommendations systems, which fall into the hyper-personalization category. It's natural that there won't be an end to the needs of humans. The more we get, the more we want. Though content-based recommender systems are efficient, targeted at an individual level, and consider the user's personal preferences alone while building recommendation engines, people wanted recommendation engines to be more personalized. For example, a person going on a trip alone may need a book to read whereas the same person may need beer if he is travelling with friends. Similarly, the same person might require diapers, medicines, snacks, and so on if he is going with his own family. People at different places at different\n",
    "times with different company have different needs. Our recommender systems should be robust enough to handle such scenarios. Such hyper personalized recommender systems, which cater to different recommendations to the same person based on his current context, are known as context-aware recommender systems."
   ]
  },
  {
   "cell_type": "markdown",
   "metadata": {},
   "source": [
    "<h2> Building a context-aware recommender systems</h2>\n",
    "Building a context-aware recommender system is more like extending a content recommender system. Building a context-aware system typically involves adding the\n",
    "context dimension on top of content recommenders, as shown in the following figure:\n",
    "In the preceding figure, we can observe that context dimension is added on top of a contentbased recommendation engine model, and then recommendations are generated. As we\n",
    "discussed in Chapter 3, Recommendation Engines Explained, there are two popular types of approaches for building context-aware recommendations:\n",
    "Pre-filtering approaches\n",
    "Post-filtering approaches\n",
    "In this section, we will use post-filtering techniques to build context-aware recommender systems."
   ]
  },
  {
   "cell_type": "markdown",
   "metadata": {},
   "source": [
    "<h2>Context-aware recommendations using R</h2>\n",
    "In the previous section, we built a content-based recommendation engine. In this section, we will extend the previous model to include context information and generate a contextaware recommendation engine.\n",
    "The usual practice of building context-aware systems is to add a time dimension to the content-based recommendations."
   ]
  },
  {
   "cell_type": "markdown",
   "metadata": {},
   "source": [
    "Let's try building context aware systems using R. The steps for building context-aware systems in R are as follows:\n",
    "1. Define context.\n",
    "2. Create a context profile with respect to a user for item content.\n",
    "3. Generate recommendations for a context"
   ]
  },
  {
   "cell_type": "markdown",
   "metadata": {},
   "source": [
    "<h3>Defining the context</h3>\n",
    "The first step is to define the context that we will be including in our recommendations. In\n",
    "the previous section, we used the MovieLens dataset to build content-based\n",
    "recommendation engines. In the dataset, we have a time component, timestamp, in the\n",
    "rating data. We shall use this variable for our context-aware recommendation systems.\n",
    "We will extend the R code we used while building content-based recommendations"
   ]
  },
  {
   "cell_type": "code",
   "execution_count": null,
   "metadata": {},
   "outputs": [],
   "source": [
    "# We load the full MovieLens ratings dataset as follows:\n",
    "raw_data = read.csv(\"C:/Suresh/R&D/packtPublications/reco_engines/drafts/personalRecos/udata.csv\",sep=\"\\t\",header=F)\n",
    "colnames(raw_data) = c(\"UserId\",\"MovieId\",\"Rating\",\"TimeStamp\")\n",
    "\n",
    "# See the sample data using head() function:\n",
    "head(raw_data)\n",
    "\n",
    "# We load movies dataset:\n",
    "movies = read.csv(\"C:/Suresh/R&D/packtPublications/reco_engines/drafts/personalRecos/uitem.csv\",sep=\"|\",header=F)\n",
    "\n",
    "# Then we add column names to the movies data frame:\n",
    "colnames(movies) = c(\"MovieId\",\"MovieTitle\",\"ReleaseDate\",\"VideoReleaseDate\",\"IMDbURL\",\"Unknown\",\"Action\",\"Adventure\",\"Animation\",\"Children\",\"Comedy\",\"Crime\",\"Documentary\",\"Drama\",\"Fantasy\",\"FilmNoir\",\"Horror\",\"Musical\",\"Mystery\",\"Romance\",\"SciFi\",\"Thriller\",\"War\",\"Western\")\n",
    "\n",
    "# Next, we remove unwanted columns from the data frame:\n",
    "movies = movies[,-c(2:5)]\n",
    "\n",
    "# We merge the Movies and Ratings datasets using merge() function\n",
    "ratings_ctx = merge(x = raw_data, y = movies, by = \"MovieId\", all.x = TRUE)\n"
   ]
  },
  {
   "cell_type": "markdown",
   "metadata": {},
   "source": [
    "The context that we want to introduce to our previous content-based recommendation is the hour of the day, that is, our recommendations will be made as per the time of the day. The set of recommendations for an active user will be different for each hour of the day. Usually, these changes in recommendations are due to the ordering of the recommendations as per the hour. We will see next how we achieve this."
   ]
  },
  {
   "cell_type": "markdown",
   "metadata": {},
   "source": [
    "<h3>Creating context profile</h3>\n",
    "In the following section, we shall write code to create context profile of the user. We chose the timestamp information available in the dataset and calculate the preference value for movie genres for each user for each hour of the day. This context profile information is used for generating context aware recommendations."
   ]
  },
  {
   "cell_type": "code",
   "execution_count": null,
   "metadata": {},
   "outputs": [],
   "source": [
    "# We extract timestamp from the ratings dataset:\n",
    "ts = ratings_ctx$TimeStamp\n",
    "\n",
    "# Then, we convert it into a POSIXlt date object and using hour property to extract hour of the day:\n",
    "hours <- as.POSIXlt(ts,origin=\"1960-10-01\")$hour\n",
    "\n",
    "# See below for sample data:\n",
    "head(ts)\n",
    "head(hours)\n",
    "\n",
    "# We can append the hours back on to the ratings dataset:\n",
    "ratings_ctx = data.frame(cbind(ratings_ctx,hours))\n",
    "\n",
    "# Now, let's start building a context profile for a user with the user ID 943:\n",
    "\n",
    "# Extract ratings information for the active user(943) and removing UserId, MovieId, Rating, Timestamp columns, as shown as follow:\n",
    "UCP = ratings_ctx[(ratings_ctx$UserId == 943),][,-c(2,3,4,5)]\n",
    "\n",
    "# As a next step, we compute the columns of all the item features. This columnwise sum is used to compute the preferences for the item features for each hour of the day.\n",
    "\n",
    "# We compute the column wide sum of each column using aggregate() function:\n",
    "UCP_pref = aggregate(.~hours,UCP[,-1],sum)\n",
    "\n",
    "# From the preceding figure, we can see the time preferences for each of the movie genres for the active user 943. We can observe that during the ninth hour of the day, the user watches more movies, especially action/drama/comedy movies:\n",
    "\n",
    "# We can normalize the preceding data between 0-1 using following function:\n",
    "UCP_pref_sc = cbind(context = UCP_pref[,1],t(apply(UCP_pref[,-1], 1, function(x)(x-min(x))/(max(x)-min(x)))))\n"
   ]
  },
  {
   "cell_type": "markdown",
   "metadata": {},
   "source": [
    "<h3>Generating context-aware recommendations</h3>\n",
    "Now that we have created the context profile for the active user, let's start generating context-aware recommendations for the user.\n",
    "For this, we shall reuse the recommend object built using R, which contains content recommendations for all the users.\n"
   ]
  },
  {
   "cell_type": "code",
   "execution_count": null,
   "metadata": {},
   "outputs": [],
   "source": [
    "# Let's see the recommendations made to the user 943 using the content-based system:\n",
    "recommend$MovieId\n",
    "\n",
    "# Now, to these content recommendations, we add our time or hour of the day dimension and then generate recommendations as per the current context.\n",
    "\n",
    "# We merge recommendations and movies dataset using merge() function:\n",
    "UCP_pref_content = merge(x = recommend, y = movies, by = \"MovieId\", all.x = TRUE)\n"
   ]
  },
  {
   "cell_type": "markdown",
   "metadata": {},
   "source": [
    "With the preceding step, we have computed all the required matrices, user context profile (UCP_Pref_SC) and user content recommendations (UCP_Pref_content).\n",
    "\n",
    "Suppose we want to generate recommendations for the user at the ninth hour; we just need to perform an element wise multiplication of user content recommendations and the context row for the ninth hour of the day from the UCP_pref_SC object. This is given as follows:\n",
    "\n"
   ]
  },
  {
   "cell_type": "code",
   "execution_count": null,
   "metadata": {},
   "outputs": [],
   "source": [
    "# Performing element wise multiplication for the User content recommendations and the ninth hour context preferences for the user:\n",
    "active_user =cbind(UCP_pref_content$MovieId,(as.matrix(UCP_pref_content[,-c(1,2,3)]) %*% as.matrix(UCP_pref_sc[4,2:19])))\n",
    "\n",
    "# The results can be seen as follows; we can observe that the preference for MovieId 3 is 0.5 where as for MovieId 4 the preference is 2.8\n",
    "head(active_user)\n",
    "\n",
    "# We can create a dataframe object of the prediction object:\n",
    "active_user_df = as.data.frame(active_user)\n",
    "\n",
    "# Next, we add column names to the predictions object:\n",
    "names(active_user_df) = c('MovieId','SimVal')\n",
    "\n",
    "# Then we sort the results:\n",
    "FinalPredicitons_943 = active_user_df[order(-active_user_df$SimVal),]\n"
   ]
  },
  {
   "cell_type": "code",
   "execution_count": null,
   "metadata": {},
   "outputs": [],
   "source": []
  }
 ],
 "metadata": {
  "kernelspec": {
   "display_name": "Python 3.6",
   "language": "python",
   "name": "python36"
  },
  "language_info": {
   "codemirror_mode": {
    "name": "ipython",
    "version": 3
   },
   "file_extension": ".py",
   "mimetype": "text/x-python",
   "name": "python",
   "nbconvert_exporter": "python",
   "pygments_lexer": "ipython3",
   "version": "3.6.3"
  }
 },
 "nbformat": 4,
 "nbformat_minor": 2
}
