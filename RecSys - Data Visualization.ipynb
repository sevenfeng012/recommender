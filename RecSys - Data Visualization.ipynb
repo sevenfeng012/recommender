{
 "cells": [
  {
   "cell_type": "markdown",
   "metadata": {},
   "source": [
    "<h1> Session 1 - Introduction to Recommendation Systems</h1>"
   ]
  },
  {
   "cell_type": "markdown",
   "metadata": {},
   "source": [
    "This is the first session in the recommendation systems series.\n",
    "In this part we perform some data visualization for the Movie Lens dataset"
   ]
  },
  {
   "cell_type": "markdown",
   "metadata": {},
   "source": [
    "The Movie Lens dataset can be downloaded from https://grouplens.org/datasets/movielens/"
   ]
  },
  {
   "cell_type": "markdown",
   "metadata": {},
   "source": [
    "<h3> Step 1 - Import the required packages </h3>"
   ]
  },
  {
   "cell_type": "markdown",
   "metadata": {},
   "source": [
    "Import the require packages"
   ]
  },
  {
   "cell_type": "code",
   "execution_count": null,
   "metadata": {},
   "outputs": [],
   "source": [
    "import pandas as pd\n",
    "import numpy as np\n",
    "import matplotlib.pyplot as plt"
   ]
  },
  {
   "cell_type": "markdown",
   "metadata": {},
   "source": [
    "<h3> Step 2 - Update the data files into Azure Notebooks </h3>"
   ]
  },
  {
   "cell_type": "markdown",
   "metadata": {},
   "source": [
    "<img src=\"https://notebooks.azure.com/content/jupyter-data-tab.gif\">"
   ]
  },
  {
   "cell_type": "markdown",
   "metadata": {},
   "source": [
    "<h3> Step 3 - Load the data from multiple files into data frames </h3>"
   ]
  },
  {
   "cell_type": "markdown",
   "metadata": {},
   "source": [
    "Load the data from the multiple files into several dataframes\n",
    "\n",
    "- u.info file contains information about the dataset\n",
    "- u.user file contains a list of all the users\n",
    "- u.occupation file contains information regarding the occupation of the users\n",
    "- u.genre file contains information regarding the genre of the movies (including their count)\n",
    "- u.item file contains a list of all the movie items\n",
    "- u.data file contains a list of 100,000 ratings made by 943 users on 1682 movie items"
   ]
  },
  {
   "cell_type": "code",
   "execution_count": null,
   "metadata": {},
   "outputs": [],
   "source": [
    "# General information about dataset\n",
    "df_u_info = pd.read_csv('/home/nbuser/library/u.info', header=None, sep=' ')\n",
    "\n",
    "# List of users\n",
    "df_u_user = pd.read_csv('/home/nbuser/library/u.user', sep='|')\n",
    "\n",
    "# List of user occupation\n",
    "df_u_occupation = pd.read_csv('/home/nbuser/library/u.occupation', header=None)\n",
    "\n",
    "# List of movie genre (and movie count by genre)\n",
    "df_u_genre = pd.read_csv('/home/nbuser/library/u.genre', sep='|', header=None)\n",
    "\n",
    "# List of movie items\n",
    "#df_u_item = pd.read_csv('/home/nbuser/library/u.item', sep='|')\n",
    "\n",
    "# Transactional user data\n",
    "df_u_data = pd.read_csv('/home/nbuser/library/u.data', sep='\\t')"
   ]
  },
  {
   "cell_type": "markdown",
   "metadata": {},
   "source": [
    "<h3>Step 4 - Analyze the dataframe</h3>"
   ]
  },
  {
   "cell_type": "markdown",
   "metadata": {},
   "source": [
    "Determine the datatype of the data that is being used."
   ]
  },
  {
   "cell_type": "code",
   "execution_count": null,
   "metadata": {},
   "outputs": [],
   "source": [
    "type(df_u_info)"
   ]
  },
  {
   "cell_type": "markdown",
   "metadata": {},
   "source": [
    "Check the columns in a dataframe (only those that actually have a header row"
   ]
  },
  {
   "cell_type": "code",
   "execution_count": null,
   "metadata": {},
   "outputs": [],
   "source": [
    "df_u_user.columns\n",
    "df_u_data.columns"
   ]
  },
  {
   "cell_type": "markdown",
   "metadata": {},
   "source": [
    "For each dataframe, display a sample set of records from the begining."
   ]
  },
  {
   "cell_type": "code",
   "execution_count": null,
   "metadata": {},
   "outputs": [],
   "source": [
    "df_u_info.head()\n",
    "df_u_user.head()\n",
    "df_u_occupation.head()\n",
    "df_u_genre.head()"
   ]
  },
  {
   "cell_type": "markdown",
   "metadata": {},
   "source": [
    "For each dataframe, display a sample set of records from the bottom."
   ]
  },
  {
   "cell_type": "code",
   "execution_count": null,
   "metadata": {},
   "outputs": [],
   "source": [
    "df_u_info.tail()"
   ]
  },
  {
   "cell_type": "markdown",
   "metadata": {},
   "source": [
    "If all the records need to be displayed, then simply type the dataframe name"
   ]
  },
  {
   "cell_type": "code",
   "execution_count": null,
   "metadata": {},
   "outputs": [],
   "source": [
    "df_u_occupation"
   ]
  },
  {
   "cell_type": "markdown",
   "metadata": {},
   "source": [
    "<h3>Step 5 - Aggregate Level Analysis</h3>"
   ]
  },
  {
   "cell_type": "markdown",
   "metadata": {},
   "source": [
    "The above analysis focused on the individual records of the dataframe. However, at times aggregate analysis needs to be done too. For this, aggregate functions of the dataframe can be used."
   ]
  },
  {
   "cell_type": "markdown",
   "metadata": {},
   "source": [
    "Count the number of records for a given column."
   ]
  },
  {
   "cell_type": "code",
   "execution_count": null,
   "metadata": {},
   "outputs": [],
   "source": [
    "df_u_data['Rating'].count()"
   ]
  },
  {
   "cell_type": "markdown",
   "metadata": {},
   "source": [
    "Count the number of movie items, for each rating."
   ]
  },
  {
   "cell_type": "code",
   "execution_count": null,
   "metadata": {},
   "outputs": [],
   "source": [
    "df_u_data.groupby(['Rating'])['ItemId'].count()"
   ]
  },
  {
   "cell_type": "markdown",
   "metadata": {},
   "source": [
    "Count the number of ratings given, for each movie items"
   ]
  },
  {
   "cell_type": "code",
   "execution_count": null,
   "metadata": {},
   "outputs": [],
   "source": [
    "df_u_data.groupby(['ItemId'])['Rating'].count()"
   ]
  },
  {
   "cell_type": "markdown",
   "metadata": {},
   "source": [
    "Same query as above, but this time sorted by the ratings count and only show the top 5 values"
   ]
  },
  {
   "cell_type": "code",
   "execution_count": null,
   "metadata": {},
   "outputs": [],
   "source": [
    "df_u_data.groupby(['ItemId'])['Rating'].count().reset_index(name='count').sort_values(['count'], ascending=False).head(5)"
   ]
  },
  {
   "cell_type": "markdown",
   "metadata": {},
   "source": [
    "Instead of count, other aggregate functions can also be used, like mean. So what is the average rating given by a user."
   ]
  },
  {
   "cell_type": "code",
   "execution_count": null,
   "metadata": {},
   "outputs": [],
   "source": [
    "df_u_data.groupby(['UserID'])['Rating'].mean()"
   ]
  },
  {
   "cell_type": "markdown",
   "metadata": {},
   "source": [
    "A simple mathematical function, with no aggregation on a column."
   ]
  },
  {
   "cell_type": "code",
   "execution_count": null,
   "metadata": {},
   "outputs": [],
   "source": [
    "df_u_data['Rating'].std()"
   ]
  },
  {
   "cell_type": "markdown",
   "metadata": {},
   "source": [
    "<h3>Step 6 - Some basic plots</h3>"
   ]
  },
  {
   "cell_type": "markdown",
   "metadata": {},
   "source": [
    "Create a simple histogram for the user activity, based on the rating criteria."
   ]
  },
  {
   "cell_type": "code",
   "execution_count": null,
   "metadata": {},
   "outputs": [],
   "source": [
    "plt.hist(df_u_data['Rating'])"
   ]
  },
  {
   "cell_type": "markdown",
   "metadata": {},
   "source": [
    "Create a more complicated histogram, this time with the movie items being the criteria."
   ]
  },
  {
   "cell_type": "code",
   "execution_count": null,
   "metadata": {},
   "outputs": [],
   "source": [
    "plt.hist(df_u_data.groupby(['ItemId'])['Rating'].count())"
   ]
  },
  {
   "cell_type": "markdown",
   "metadata": {},
   "source": [
    "<h3>Step 7 - Additional plot types</h3>"
   ]
  },
  {
   "cell_type": "markdown",
   "metadata": {},
   "source": [
    "Let's visualize the generated ratings over time. For this a time series plot is required that would show the ratings given by users over a time period."
   ]
  },
  {
   "cell_type": "code",
   "execution_count": null,
   "metadata": {},
   "outputs": [],
   "source": [
    "plt.plot(df_u_data.groupby(['Timestamp'])['Rating'].count().head(1000))"
   ]
  },
  {
   "cell_type": "markdown",
   "metadata": {},
   "source": [
    "Another type of plot is scatter plot. In this case we want to check the distribution of user ratings i.e. how are users more likely to rate a movie.\n",
    "\n",
    "In the first step, we first get a Series structure using the DataFrame as source. This Series structure is then again converted into a modified DataFrame and then the scatter plot function is used to plot the reduced DataFrame."
   ]
  },
  {
   "cell_type": "code",
   "execution_count": null,
   "metadata": {},
   "outputs": [],
   "source": [
    "gp_sr = df_u_data.groupby(['UserID'])['Rating'].mean().head(500)\n",
    "gp_df = gp_sr.to_frame()\n",
    "gp_df.reset_index(inplace=True)\n",
    "gp_df.columns = ['UserID','M_Rating']"
   ]
  },
  {
   "cell_type": "code",
   "execution_count": null,
   "metadata": {},
   "outputs": [],
   "source": [
    "gp_df.plot(kind='scatter', x='UserID', y='M_Rating')"
   ]
  }
 ],
 "metadata": {
  "kernelspec": {
   "display_name": "Python 3.6",
   "language": "python",
   "name": "python36"
  },
  "language_info": {
   "codemirror_mode": {
    "name": "ipython",
    "version": 3
   },
   "file_extension": ".py",
   "mimetype": "text/x-python",
   "name": "python",
   "nbconvert_exporter": "python",
   "pygments_lexer": "ipython3",
   "version": "3.6.3"
  }
 },
 "nbformat": 4,
 "nbformat_minor": 2
}
