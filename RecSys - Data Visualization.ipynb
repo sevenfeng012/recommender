{
 "cells": [
  {
   "cell_type": "markdown",
   "metadata": {},
   "source": [
    "<h1> Session 1 - Introduction to Recommenders</h1>"
   ]
  },
  {
   "cell_type": "markdown",
   "metadata": {},
   "source": [
    "This is the first session in the recommendation systems series.\n",
    "In this part we perform some data visualization for the Movie Lens dataset"
   ]
  },
  {
   "cell_type": "markdown",
   "metadata": {},
   "source": [
    "The Movie Lens dataset can be downloaded from https://grouplens.org/datasets/movielens/"
   ]
  },
  {
   "cell_type": "markdown",
   "metadata": {},
   "source": [
    "<h3> Step 1 - Import the required packages </h3>"
   ]
  },
  {
   "cell_type": "markdown",
   "metadata": {},
   "source": [
    "Import the require packages"
   ]
  },
  {
   "cell_type": "code",
   "execution_count": 1,
   "metadata": {},
   "outputs": [],
   "source": [
    "import pandas as pd\n",
    "import numpy as np\n",
    "import matplotlib.pyplot as plt"
   ]
  },
  {
   "cell_type": "markdown",
   "metadata": {},
   "source": [
    "<h3> Step 2 - Update the data files into Azure Notebooks </h3>"
   ]
  },
  {
   "cell_type": "markdown",
   "metadata": {},
   "source": [
    "<img src=\"https://notebooks.azure.com/content/jupyter-data-tab.gif\">"
   ]
  },
  {
   "cell_type": "markdown",
   "metadata": {},
   "source": [
    "<h3> Step 3 - Load the data from multiple files into data frames </h3>"
   ]
  },
  {
   "cell_type": "markdown",
   "metadata": {},
   "source": [
    "Load the data from the multiple files into several dataframes\n",
    "\n",
    "- u.info file contains information about the dataset\n",
    "- u.user file contains a list of all the users\n",
    "- u.occupation file contains information regarding the occupation of the users\n",
    "- u.genre file contains information regarding the genre of the movies (including their count)\n",
    "- u.item file contains a list of all the movie items\n",
    "- u.data file contains a list of 100,000 ratings made by 943 users on 1682 movie items"
   ]
  },
  {
   "cell_type": "code",
   "execution_count": 2,
   "metadata": {},
   "outputs": [],
   "source": [
    "# Column headers for the dataset\n",
    "data_cols = ['user id','movie id','rating','timestamp']\n",
    "item_cols = ['movie id','movie title','release date', 'video release date','IMDb URL','unknown','Action', 'Adventure','Animation','Childrens','Comedy','Crime', 'Documentary','Drama','Fantasy','Film-Noir','Horror', 'Musical','Mystery','Romance ','Sci-Fi','Thriller', 'War' ,'Western']\n",
    "user_cols = ['user id','age','gender','occupation', 'zip code']\n",
    "\n",
    "\n",
    "# General information about dataset\n",
    "df_u_info = pd.read_csv('/home/nbuser/library/u.info', header=None, sep=' ')\n",
    "\n",
    "# List of users\n",
    "df_u_user = pd.read_csv('/home/nbuser/library/u.user', header=None, sep='|', names=user_cols, encoding='latin-1')\n",
    "\n",
    "# List of user occupation\n",
    "df_u_occupation = pd.read_csv('/home/nbuser/library/u.occupation', header=None)\n",
    "\n",
    "# List of movie genre (and movie count by genre)\n",
    "df_u_genre = pd.read_csv('/home/nbuser/library/u.genre', sep='|', header=None)\n",
    "\n",
    "# List of movie items\n",
    "#df_u_item = pd.read_csv('/home/nbuser/library/u.item', header=None, sep='|', names=item_cols, encoding='latin-1')\n",
    "\n",
    "# Transactional user data\n",
    "df_u_data = pd.read_csv('/home/nbuser/library/u.data', header=None, sep='\\t', names=data_cols, encoding='latin-1')"
   ]
  },
  {
   "cell_type": "markdown",
   "metadata": {},
   "source": [
    "<h3>Step 4 - Analyze the dataframe</h3>"
   ]
  },
  {
   "cell_type": "markdown",
   "metadata": {},
   "source": [
    "Determine the datatype of the data that is being used."
   ]
  },
  {
   "cell_type": "code",
   "execution_count": 3,
   "metadata": {},
   "outputs": [
    {
     "data": {
      "text/plain": [
       "pandas.core.frame.DataFrame"
      ]
     },
     "execution_count": 3,
     "metadata": {},
     "output_type": "execute_result"
    }
   ],
   "source": [
    "type(df_u_info)"
   ]
  },
  {
   "cell_type": "markdown",
   "metadata": {},
   "source": [
    "Check the columns in a dataframe (only those that actually have a header row"
   ]
  },
  {
   "cell_type": "code",
   "execution_count": 5,
   "metadata": {},
   "outputs": [
    {
     "data": {
      "text/plain": [
       "Index(['UserID', 'ItemId', 'Rating', 'Timestamp'], dtype='object')"
      ]
     },
     "execution_count": 5,
     "metadata": {},
     "output_type": "execute_result"
    }
   ],
   "source": [
    "#df_u_user.columns\n",
    "df_u_data.columns"
   ]
  },
  {
   "cell_type": "markdown",
   "metadata": {},
   "source": [
    "For each dataframe, display a sample set of records from the begining."
   ]
  },
  {
   "cell_type": "code",
   "execution_count": 8,
   "metadata": {},
   "outputs": [
    {
     "data": {
      "text/html": [
       "<div>\n",
       "<style>\n",
       "    .dataframe thead tr:only-child th {\n",
       "        text-align: right;\n",
       "    }\n",
       "\n",
       "    .dataframe thead th {\n",
       "        text-align: left;\n",
       "    }\n",
       "\n",
       "    .dataframe tbody tr th {\n",
       "        vertical-align: top;\n",
       "    }\n",
       "</style>\n",
       "<table border=\"1\" class=\"dataframe\">\n",
       "  <thead>\n",
       "    <tr style=\"text-align: right;\">\n",
       "      <th></th>\n",
       "      <th>UserID</th>\n",
       "      <th>ItemId</th>\n",
       "      <th>Rating</th>\n",
       "      <th>Timestamp</th>\n",
       "    </tr>\n",
       "  </thead>\n",
       "  <tbody>\n",
       "    <tr>\n",
       "      <th>0</th>\n",
       "      <td>196</td>\n",
       "      <td>242</td>\n",
       "      <td>3</td>\n",
       "      <td>881250949</td>\n",
       "    </tr>\n",
       "    <tr>\n",
       "      <th>1</th>\n",
       "      <td>186</td>\n",
       "      <td>302</td>\n",
       "      <td>3</td>\n",
       "      <td>891717742</td>\n",
       "    </tr>\n",
       "    <tr>\n",
       "      <th>2</th>\n",
       "      <td>22</td>\n",
       "      <td>377</td>\n",
       "      <td>1</td>\n",
       "      <td>878887116</td>\n",
       "    </tr>\n",
       "    <tr>\n",
       "      <th>3</th>\n",
       "      <td>244</td>\n",
       "      <td>51</td>\n",
       "      <td>2</td>\n",
       "      <td>880606923</td>\n",
       "    </tr>\n",
       "    <tr>\n",
       "      <th>4</th>\n",
       "      <td>166</td>\n",
       "      <td>346</td>\n",
       "      <td>1</td>\n",
       "      <td>886397596</td>\n",
       "    </tr>\n",
       "    <tr>\n",
       "      <th>5</th>\n",
       "      <td>298</td>\n",
       "      <td>474</td>\n",
       "      <td>4</td>\n",
       "      <td>884182806</td>\n",
       "    </tr>\n",
       "    <tr>\n",
       "      <th>6</th>\n",
       "      <td>115</td>\n",
       "      <td>265</td>\n",
       "      <td>2</td>\n",
       "      <td>881171488</td>\n",
       "    </tr>\n",
       "    <tr>\n",
       "      <th>7</th>\n",
       "      <td>253</td>\n",
       "      <td>465</td>\n",
       "      <td>5</td>\n",
       "      <td>891628467</td>\n",
       "    </tr>\n",
       "    <tr>\n",
       "      <th>8</th>\n",
       "      <td>305</td>\n",
       "      <td>451</td>\n",
       "      <td>3</td>\n",
       "      <td>886324817</td>\n",
       "    </tr>\n",
       "    <tr>\n",
       "      <th>9</th>\n",
       "      <td>6</td>\n",
       "      <td>86</td>\n",
       "      <td>3</td>\n",
       "      <td>883603013</td>\n",
       "    </tr>\n",
       "    <tr>\n",
       "      <th>10</th>\n",
       "      <td>62</td>\n",
       "      <td>257</td>\n",
       "      <td>2</td>\n",
       "      <td>879372434</td>\n",
       "    </tr>\n",
       "    <tr>\n",
       "      <th>11</th>\n",
       "      <td>286</td>\n",
       "      <td>1014</td>\n",
       "      <td>5</td>\n",
       "      <td>879781125</td>\n",
       "    </tr>\n",
       "    <tr>\n",
       "      <th>12</th>\n",
       "      <td>200</td>\n",
       "      <td>222</td>\n",
       "      <td>5</td>\n",
       "      <td>876042340</td>\n",
       "    </tr>\n",
       "    <tr>\n",
       "      <th>13</th>\n",
       "      <td>210</td>\n",
       "      <td>40</td>\n",
       "      <td>3</td>\n",
       "      <td>891035994</td>\n",
       "    </tr>\n",
       "    <tr>\n",
       "      <th>14</th>\n",
       "      <td>224</td>\n",
       "      <td>29</td>\n",
       "      <td>3</td>\n",
       "      <td>888104457</td>\n",
       "    </tr>\n",
       "    <tr>\n",
       "      <th>15</th>\n",
       "      <td>303</td>\n",
       "      <td>785</td>\n",
       "      <td>3</td>\n",
       "      <td>879485318</td>\n",
       "    </tr>\n",
       "    <tr>\n",
       "      <th>16</th>\n",
       "      <td>122</td>\n",
       "      <td>387</td>\n",
       "      <td>5</td>\n",
       "      <td>879270459</td>\n",
       "    </tr>\n",
       "    <tr>\n",
       "      <th>17</th>\n",
       "      <td>194</td>\n",
       "      <td>274</td>\n",
       "      <td>2</td>\n",
       "      <td>879539794</td>\n",
       "    </tr>\n",
       "    <tr>\n",
       "      <th>18</th>\n",
       "      <td>291</td>\n",
       "      <td>1042</td>\n",
       "      <td>4</td>\n",
       "      <td>874834944</td>\n",
       "    </tr>\n",
       "    <tr>\n",
       "      <th>19</th>\n",
       "      <td>234</td>\n",
       "      <td>1184</td>\n",
       "      <td>2</td>\n",
       "      <td>892079237</td>\n",
       "    </tr>\n",
       "    <tr>\n",
       "      <th>20</th>\n",
       "      <td>119</td>\n",
       "      <td>392</td>\n",
       "      <td>4</td>\n",
       "      <td>886176814</td>\n",
       "    </tr>\n",
       "    <tr>\n",
       "      <th>21</th>\n",
       "      <td>167</td>\n",
       "      <td>486</td>\n",
       "      <td>4</td>\n",
       "      <td>892738452</td>\n",
       "    </tr>\n",
       "    <tr>\n",
       "      <th>22</th>\n",
       "      <td>299</td>\n",
       "      <td>144</td>\n",
       "      <td>4</td>\n",
       "      <td>877881320</td>\n",
       "    </tr>\n",
       "    <tr>\n",
       "      <th>23</th>\n",
       "      <td>291</td>\n",
       "      <td>118</td>\n",
       "      <td>2</td>\n",
       "      <td>874833878</td>\n",
       "    </tr>\n",
       "    <tr>\n",
       "      <th>24</th>\n",
       "      <td>308</td>\n",
       "      <td>1</td>\n",
       "      <td>4</td>\n",
       "      <td>887736532</td>\n",
       "    </tr>\n",
       "    <tr>\n",
       "      <th>25</th>\n",
       "      <td>95</td>\n",
       "      <td>546</td>\n",
       "      <td>2</td>\n",
       "      <td>879196566</td>\n",
       "    </tr>\n",
       "    <tr>\n",
       "      <th>26</th>\n",
       "      <td>38</td>\n",
       "      <td>95</td>\n",
       "      <td>5</td>\n",
       "      <td>892430094</td>\n",
       "    </tr>\n",
       "    <tr>\n",
       "      <th>27</th>\n",
       "      <td>102</td>\n",
       "      <td>768</td>\n",
       "      <td>2</td>\n",
       "      <td>883748450</td>\n",
       "    </tr>\n",
       "    <tr>\n",
       "      <th>28</th>\n",
       "      <td>63</td>\n",
       "      <td>277</td>\n",
       "      <td>4</td>\n",
       "      <td>875747401</td>\n",
       "    </tr>\n",
       "    <tr>\n",
       "      <th>29</th>\n",
       "      <td>160</td>\n",
       "      <td>234</td>\n",
       "      <td>5</td>\n",
       "      <td>876861185</td>\n",
       "    </tr>\n",
       "    <tr>\n",
       "      <th>...</th>\n",
       "      <td>...</td>\n",
       "      <td>...</td>\n",
       "      <td>...</td>\n",
       "      <td>...</td>\n",
       "    </tr>\n",
       "    <tr>\n",
       "      <th>70</th>\n",
       "      <td>189</td>\n",
       "      <td>512</td>\n",
       "      <td>4</td>\n",
       "      <td>893277702</td>\n",
       "    </tr>\n",
       "    <tr>\n",
       "      <th>71</th>\n",
       "      <td>243</td>\n",
       "      <td>15</td>\n",
       "      <td>3</td>\n",
       "      <td>879987440</td>\n",
       "    </tr>\n",
       "    <tr>\n",
       "      <th>72</th>\n",
       "      <td>92</td>\n",
       "      <td>1049</td>\n",
       "      <td>1</td>\n",
       "      <td>890251826</td>\n",
       "    </tr>\n",
       "    <tr>\n",
       "      <th>73</th>\n",
       "      <td>246</td>\n",
       "      <td>416</td>\n",
       "      <td>3</td>\n",
       "      <td>884923047</td>\n",
       "    </tr>\n",
       "    <tr>\n",
       "      <th>74</th>\n",
       "      <td>194</td>\n",
       "      <td>165</td>\n",
       "      <td>4</td>\n",
       "      <td>879546723</td>\n",
       "    </tr>\n",
       "    <tr>\n",
       "      <th>75</th>\n",
       "      <td>241</td>\n",
       "      <td>690</td>\n",
       "      <td>2</td>\n",
       "      <td>887249482</td>\n",
       "    </tr>\n",
       "    <tr>\n",
       "      <th>76</th>\n",
       "      <td>178</td>\n",
       "      <td>248</td>\n",
       "      <td>4</td>\n",
       "      <td>882823954</td>\n",
       "    </tr>\n",
       "    <tr>\n",
       "      <th>77</th>\n",
       "      <td>254</td>\n",
       "      <td>1444</td>\n",
       "      <td>3</td>\n",
       "      <td>886475558</td>\n",
       "    </tr>\n",
       "    <tr>\n",
       "      <th>78</th>\n",
       "      <td>293</td>\n",
       "      <td>5</td>\n",
       "      <td>3</td>\n",
       "      <td>888906576</td>\n",
       "    </tr>\n",
       "    <tr>\n",
       "      <th>79</th>\n",
       "      <td>127</td>\n",
       "      <td>229</td>\n",
       "      <td>5</td>\n",
       "      <td>884364867</td>\n",
       "    </tr>\n",
       "    <tr>\n",
       "      <th>80</th>\n",
       "      <td>225</td>\n",
       "      <td>237</td>\n",
       "      <td>5</td>\n",
       "      <td>879539643</td>\n",
       "    </tr>\n",
       "    <tr>\n",
       "      <th>81</th>\n",
       "      <td>299</td>\n",
       "      <td>229</td>\n",
       "      <td>3</td>\n",
       "      <td>878192429</td>\n",
       "    </tr>\n",
       "    <tr>\n",
       "      <th>82</th>\n",
       "      <td>225</td>\n",
       "      <td>480</td>\n",
       "      <td>5</td>\n",
       "      <td>879540748</td>\n",
       "    </tr>\n",
       "    <tr>\n",
       "      <th>83</th>\n",
       "      <td>276</td>\n",
       "      <td>54</td>\n",
       "      <td>3</td>\n",
       "      <td>874791025</td>\n",
       "    </tr>\n",
       "    <tr>\n",
       "      <th>84</th>\n",
       "      <td>291</td>\n",
       "      <td>144</td>\n",
       "      <td>5</td>\n",
       "      <td>874835091</td>\n",
       "    </tr>\n",
       "    <tr>\n",
       "      <th>85</th>\n",
       "      <td>222</td>\n",
       "      <td>366</td>\n",
       "      <td>4</td>\n",
       "      <td>878183381</td>\n",
       "    </tr>\n",
       "    <tr>\n",
       "      <th>86</th>\n",
       "      <td>267</td>\n",
       "      <td>518</td>\n",
       "      <td>5</td>\n",
       "      <td>878971773</td>\n",
       "    </tr>\n",
       "    <tr>\n",
       "      <th>87</th>\n",
       "      <td>42</td>\n",
       "      <td>403</td>\n",
       "      <td>3</td>\n",
       "      <td>881108684</td>\n",
       "    </tr>\n",
       "    <tr>\n",
       "      <th>88</th>\n",
       "      <td>11</td>\n",
       "      <td>111</td>\n",
       "      <td>4</td>\n",
       "      <td>891903862</td>\n",
       "    </tr>\n",
       "    <tr>\n",
       "      <th>89</th>\n",
       "      <td>95</td>\n",
       "      <td>625</td>\n",
       "      <td>4</td>\n",
       "      <td>888954412</td>\n",
       "    </tr>\n",
       "    <tr>\n",
       "      <th>90</th>\n",
       "      <td>8</td>\n",
       "      <td>338</td>\n",
       "      <td>4</td>\n",
       "      <td>879361873</td>\n",
       "    </tr>\n",
       "    <tr>\n",
       "      <th>91</th>\n",
       "      <td>162</td>\n",
       "      <td>25</td>\n",
       "      <td>4</td>\n",
       "      <td>877635573</td>\n",
       "    </tr>\n",
       "    <tr>\n",
       "      <th>92</th>\n",
       "      <td>87</td>\n",
       "      <td>1016</td>\n",
       "      <td>4</td>\n",
       "      <td>879876194</td>\n",
       "    </tr>\n",
       "    <tr>\n",
       "      <th>93</th>\n",
       "      <td>279</td>\n",
       "      <td>154</td>\n",
       "      <td>5</td>\n",
       "      <td>875296291</td>\n",
       "    </tr>\n",
       "    <tr>\n",
       "      <th>94</th>\n",
       "      <td>145</td>\n",
       "      <td>275</td>\n",
       "      <td>2</td>\n",
       "      <td>885557505</td>\n",
       "    </tr>\n",
       "    <tr>\n",
       "      <th>95</th>\n",
       "      <td>119</td>\n",
       "      <td>1153</td>\n",
       "      <td>5</td>\n",
       "      <td>874781198</td>\n",
       "    </tr>\n",
       "    <tr>\n",
       "      <th>96</th>\n",
       "      <td>62</td>\n",
       "      <td>498</td>\n",
       "      <td>4</td>\n",
       "      <td>879373848</td>\n",
       "    </tr>\n",
       "    <tr>\n",
       "      <th>97</th>\n",
       "      <td>62</td>\n",
       "      <td>382</td>\n",
       "      <td>3</td>\n",
       "      <td>879375537</td>\n",
       "    </tr>\n",
       "    <tr>\n",
       "      <th>98</th>\n",
       "      <td>28</td>\n",
       "      <td>209</td>\n",
       "      <td>4</td>\n",
       "      <td>881961214</td>\n",
       "    </tr>\n",
       "    <tr>\n",
       "      <th>99</th>\n",
       "      <td>135</td>\n",
       "      <td>23</td>\n",
       "      <td>4</td>\n",
       "      <td>879857765</td>\n",
       "    </tr>\n",
       "  </tbody>\n",
       "</table>\n",
       "<p>100 rows × 4 columns</p>\n",
       "</div>"
      ],
      "text/plain": [
       "    UserID  ItemId  Rating  Timestamp\n",
       "0      196     242       3  881250949\n",
       "1      186     302       3  891717742\n",
       "2       22     377       1  878887116\n",
       "3      244      51       2  880606923\n",
       "4      166     346       1  886397596\n",
       "5      298     474       4  884182806\n",
       "6      115     265       2  881171488\n",
       "7      253     465       5  891628467\n",
       "8      305     451       3  886324817\n",
       "9        6      86       3  883603013\n",
       "10      62     257       2  879372434\n",
       "11     286    1014       5  879781125\n",
       "12     200     222       5  876042340\n",
       "13     210      40       3  891035994\n",
       "14     224      29       3  888104457\n",
       "15     303     785       3  879485318\n",
       "16     122     387       5  879270459\n",
       "17     194     274       2  879539794\n",
       "18     291    1042       4  874834944\n",
       "19     234    1184       2  892079237\n",
       "20     119     392       4  886176814\n",
       "21     167     486       4  892738452\n",
       "22     299     144       4  877881320\n",
       "23     291     118       2  874833878\n",
       "24     308       1       4  887736532\n",
       "25      95     546       2  879196566\n",
       "26      38      95       5  892430094\n",
       "27     102     768       2  883748450\n",
       "28      63     277       4  875747401\n",
       "29     160     234       5  876861185\n",
       "..     ...     ...     ...        ...\n",
       "70     189     512       4  893277702\n",
       "71     243      15       3  879987440\n",
       "72      92    1049       1  890251826\n",
       "73     246     416       3  884923047\n",
       "74     194     165       4  879546723\n",
       "75     241     690       2  887249482\n",
       "76     178     248       4  882823954\n",
       "77     254    1444       3  886475558\n",
       "78     293       5       3  888906576\n",
       "79     127     229       5  884364867\n",
       "80     225     237       5  879539643\n",
       "81     299     229       3  878192429\n",
       "82     225     480       5  879540748\n",
       "83     276      54       3  874791025\n",
       "84     291     144       5  874835091\n",
       "85     222     366       4  878183381\n",
       "86     267     518       5  878971773\n",
       "87      42     403       3  881108684\n",
       "88      11     111       4  891903862\n",
       "89      95     625       4  888954412\n",
       "90       8     338       4  879361873\n",
       "91     162      25       4  877635573\n",
       "92      87    1016       4  879876194\n",
       "93     279     154       5  875296291\n",
       "94     145     275       2  885557505\n",
       "95     119    1153       5  874781198\n",
       "96      62     498       4  879373848\n",
       "97      62     382       3  879375537\n",
       "98      28     209       4  881961214\n",
       "99     135      23       4  879857765\n",
       "\n",
       "[100 rows x 4 columns]"
      ]
     },
     "execution_count": 8,
     "metadata": {},
     "output_type": "execute_result"
    }
   ],
   "source": [
    "#df_u_info.head()\n",
    "df_u_data.head(100)\n",
    "#df_u_occupation.head()\n",
    "#df_u_genre.head()"
   ]
  },
  {
   "cell_type": "markdown",
   "metadata": {},
   "source": [
    "For each dataframe, display a sample set of records from the bottom."
   ]
  },
  {
   "cell_type": "code",
   "execution_count": 9,
   "metadata": {},
   "outputs": [
    {
     "data": {
      "text/html": [
       "<div>\n",
       "<style>\n",
       "    .dataframe thead tr:only-child th {\n",
       "        text-align: right;\n",
       "    }\n",
       "\n",
       "    .dataframe thead th {\n",
       "        text-align: left;\n",
       "    }\n",
       "\n",
       "    .dataframe tbody tr th {\n",
       "        vertical-align: top;\n",
       "    }\n",
       "</style>\n",
       "<table border=\"1\" class=\"dataframe\">\n",
       "  <thead>\n",
       "    <tr style=\"text-align: right;\">\n",
       "      <th></th>\n",
       "      <th>UserID</th>\n",
       "      <th>ItemId</th>\n",
       "      <th>Rating</th>\n",
       "      <th>Timestamp</th>\n",
       "    </tr>\n",
       "  </thead>\n",
       "  <tbody>\n",
       "    <tr>\n",
       "      <th>99990</th>\n",
       "      <td>806</td>\n",
       "      <td>421</td>\n",
       "      <td>4</td>\n",
       "      <td>882388897</td>\n",
       "    </tr>\n",
       "    <tr>\n",
       "      <th>99991</th>\n",
       "      <td>676</td>\n",
       "      <td>538</td>\n",
       "      <td>4</td>\n",
       "      <td>892685437</td>\n",
       "    </tr>\n",
       "    <tr>\n",
       "      <th>99992</th>\n",
       "      <td>721</td>\n",
       "      <td>262</td>\n",
       "      <td>3</td>\n",
       "      <td>877137285</td>\n",
       "    </tr>\n",
       "    <tr>\n",
       "      <th>99993</th>\n",
       "      <td>913</td>\n",
       "      <td>209</td>\n",
       "      <td>2</td>\n",
       "      <td>881367150</td>\n",
       "    </tr>\n",
       "    <tr>\n",
       "      <th>99994</th>\n",
       "      <td>378</td>\n",
       "      <td>78</td>\n",
       "      <td>3</td>\n",
       "      <td>880056976</td>\n",
       "    </tr>\n",
       "    <tr>\n",
       "      <th>99995</th>\n",
       "      <td>880</td>\n",
       "      <td>476</td>\n",
       "      <td>3</td>\n",
       "      <td>880175444</td>\n",
       "    </tr>\n",
       "    <tr>\n",
       "      <th>99996</th>\n",
       "      <td>716</td>\n",
       "      <td>204</td>\n",
       "      <td>5</td>\n",
       "      <td>879795543</td>\n",
       "    </tr>\n",
       "    <tr>\n",
       "      <th>99997</th>\n",
       "      <td>276</td>\n",
       "      <td>1090</td>\n",
       "      <td>1</td>\n",
       "      <td>874795795</td>\n",
       "    </tr>\n",
       "    <tr>\n",
       "      <th>99998</th>\n",
       "      <td>13</td>\n",
       "      <td>225</td>\n",
       "      <td>2</td>\n",
       "      <td>882399156</td>\n",
       "    </tr>\n",
       "    <tr>\n",
       "      <th>99999</th>\n",
       "      <td>12</td>\n",
       "      <td>203</td>\n",
       "      <td>3</td>\n",
       "      <td>879959583</td>\n",
       "    </tr>\n",
       "  </tbody>\n",
       "</table>\n",
       "</div>"
      ],
      "text/plain": [
       "       UserID  ItemId  Rating  Timestamp\n",
       "99990     806     421       4  882388897\n",
       "99991     676     538       4  892685437\n",
       "99992     721     262       3  877137285\n",
       "99993     913     209       2  881367150\n",
       "99994     378      78       3  880056976\n",
       "99995     880     476       3  880175444\n",
       "99996     716     204       5  879795543\n",
       "99997     276    1090       1  874795795\n",
       "99998      13     225       2  882399156\n",
       "99999      12     203       3  879959583"
      ]
     },
     "execution_count": 9,
     "metadata": {},
     "output_type": "execute_result"
    }
   ],
   "source": [
    "df_u_data.tail(10)"
   ]
  },
  {
   "cell_type": "markdown",
   "metadata": {},
   "source": [
    "If all the records need to be displayed, then simply type the dataframe name"
   ]
  },
  {
   "cell_type": "code",
   "execution_count": 10,
   "metadata": {},
   "outputs": [
    {
     "data": {
      "text/html": [
       "<div>\n",
       "<style>\n",
       "    .dataframe thead tr:only-child th {\n",
       "        text-align: right;\n",
       "    }\n",
       "\n",
       "    .dataframe thead th {\n",
       "        text-align: left;\n",
       "    }\n",
       "\n",
       "    .dataframe tbody tr th {\n",
       "        vertical-align: top;\n",
       "    }\n",
       "</style>\n",
       "<table border=\"1\" class=\"dataframe\">\n",
       "  <thead>\n",
       "    <tr style=\"text-align: right;\">\n",
       "      <th></th>\n",
       "      <th>0</th>\n",
       "    </tr>\n",
       "  </thead>\n",
       "  <tbody>\n",
       "    <tr>\n",
       "      <th>0</th>\n",
       "      <td>administrator</td>\n",
       "    </tr>\n",
       "    <tr>\n",
       "      <th>1</th>\n",
       "      <td>artist</td>\n",
       "    </tr>\n",
       "    <tr>\n",
       "      <th>2</th>\n",
       "      <td>doctor</td>\n",
       "    </tr>\n",
       "    <tr>\n",
       "      <th>3</th>\n",
       "      <td>educator</td>\n",
       "    </tr>\n",
       "    <tr>\n",
       "      <th>4</th>\n",
       "      <td>engineer</td>\n",
       "    </tr>\n",
       "    <tr>\n",
       "      <th>5</th>\n",
       "      <td>entertainment</td>\n",
       "    </tr>\n",
       "    <tr>\n",
       "      <th>6</th>\n",
       "      <td>executive</td>\n",
       "    </tr>\n",
       "    <tr>\n",
       "      <th>7</th>\n",
       "      <td>healthcare</td>\n",
       "    </tr>\n",
       "    <tr>\n",
       "      <th>8</th>\n",
       "      <td>homemaker</td>\n",
       "    </tr>\n",
       "    <tr>\n",
       "      <th>9</th>\n",
       "      <td>lawyer</td>\n",
       "    </tr>\n",
       "    <tr>\n",
       "      <th>10</th>\n",
       "      <td>librarian</td>\n",
       "    </tr>\n",
       "    <tr>\n",
       "      <th>11</th>\n",
       "      <td>marketing</td>\n",
       "    </tr>\n",
       "    <tr>\n",
       "      <th>12</th>\n",
       "      <td>none</td>\n",
       "    </tr>\n",
       "    <tr>\n",
       "      <th>13</th>\n",
       "      <td>other</td>\n",
       "    </tr>\n",
       "    <tr>\n",
       "      <th>14</th>\n",
       "      <td>programmer</td>\n",
       "    </tr>\n",
       "    <tr>\n",
       "      <th>15</th>\n",
       "      <td>retired</td>\n",
       "    </tr>\n",
       "    <tr>\n",
       "      <th>16</th>\n",
       "      <td>salesman</td>\n",
       "    </tr>\n",
       "    <tr>\n",
       "      <th>17</th>\n",
       "      <td>scientist</td>\n",
       "    </tr>\n",
       "    <tr>\n",
       "      <th>18</th>\n",
       "      <td>student</td>\n",
       "    </tr>\n",
       "    <tr>\n",
       "      <th>19</th>\n",
       "      <td>technician</td>\n",
       "    </tr>\n",
       "    <tr>\n",
       "      <th>20</th>\n",
       "      <td>writer</td>\n",
       "    </tr>\n",
       "  </tbody>\n",
       "</table>\n",
       "</div>"
      ],
      "text/plain": [
       "                0\n",
       "0   administrator\n",
       "1          artist\n",
       "2          doctor\n",
       "3        educator\n",
       "4        engineer\n",
       "5   entertainment\n",
       "6       executive\n",
       "7      healthcare\n",
       "8       homemaker\n",
       "9          lawyer\n",
       "10      librarian\n",
       "11      marketing\n",
       "12           none\n",
       "13          other\n",
       "14     programmer\n",
       "15        retired\n",
       "16       salesman\n",
       "17      scientist\n",
       "18        student\n",
       "19     technician\n",
       "20         writer"
      ]
     },
     "execution_count": 10,
     "metadata": {},
     "output_type": "execute_result"
    }
   ],
   "source": [
    "df_u_occupation"
   ]
  },
  {
   "cell_type": "markdown",
   "metadata": {},
   "source": [
    "<h3>Step 5 - Aggregate Level Analysis</h3>"
   ]
  },
  {
   "cell_type": "markdown",
   "metadata": {},
   "source": [
    "The above analysis focused on the individual records of the dataframe. However, at times aggregate analysis needs to be done too. For this, aggregate functions of the dataframe can be used."
   ]
  },
  {
   "cell_type": "markdown",
   "metadata": {},
   "source": [
    "Count the number of records for a given column."
   ]
  },
  {
   "cell_type": "code",
   "execution_count": 11,
   "metadata": {},
   "outputs": [
    {
     "data": {
      "text/plain": [
       "100000"
      ]
     },
     "execution_count": 11,
     "metadata": {},
     "output_type": "execute_result"
    }
   ],
   "source": [
    "df_u_data['Rating'].count()"
   ]
  },
  {
   "cell_type": "markdown",
   "metadata": {},
   "source": [
    "Count the number of movie items, for each rating."
   ]
  },
  {
   "cell_type": "code",
   "execution_count": 12,
   "metadata": {},
   "outputs": [
    {
     "data": {
      "text/plain": [
       "Rating\n",
       "1     6110\n",
       "2    11370\n",
       "3    27145\n",
       "4    34174\n",
       "5    21201\n",
       "Name: ItemId, dtype: int64"
      ]
     },
     "execution_count": 12,
     "metadata": {},
     "output_type": "execute_result"
    }
   ],
   "source": [
    "df_u_data.groupby(['Rating'])['ItemId'].count()"
   ]
  },
  {
   "cell_type": "markdown",
   "metadata": {},
   "source": [
    "Count the number of ratings given, for each movie items"
   ]
  },
  {
   "cell_type": "code",
   "execution_count": 13,
   "metadata": {},
   "outputs": [
    {
     "data": {
      "text/plain": [
       "ItemId\n",
       "1       452\n",
       "2       131\n",
       "3        90\n",
       "4       209\n",
       "5        86\n",
       "6        26\n",
       "7       392\n",
       "8       219\n",
       "9       299\n",
       "10       89\n",
       "11      236\n",
       "12      267\n",
       "13      184\n",
       "14      183\n",
       "15      293\n",
       "16       39\n",
       "17       92\n",
       "18       10\n",
       "19       69\n",
       "20       72\n",
       "21       84\n",
       "22      297\n",
       "23      182\n",
       "24      174\n",
       "25      293\n",
       "26       73\n",
       "27       57\n",
       "28      276\n",
       "29      114\n",
       "30       37\n",
       "       ... \n",
       "1653      1\n",
       "1654      1\n",
       "1655      1\n",
       "1656      2\n",
       "1657      1\n",
       "1658      3\n",
       "1659      1\n",
       "1660      1\n",
       "1661      1\n",
       "1662      2\n",
       "1663      1\n",
       "1664      4\n",
       "1665      1\n",
       "1666      1\n",
       "1667      1\n",
       "1668      1\n",
       "1669      1\n",
       "1670      1\n",
       "1671      1\n",
       "1672      2\n",
       "1673      1\n",
       "1674      1\n",
       "1675      1\n",
       "1676      1\n",
       "1677      1\n",
       "1678      1\n",
       "1679      1\n",
       "1680      1\n",
       "1681      1\n",
       "1682      1\n",
       "Name: Rating, Length: 1682, dtype: int64"
      ]
     },
     "execution_count": 13,
     "metadata": {},
     "output_type": "execute_result"
    }
   ],
   "source": [
    "df_u_data.groupby(['ItemId'])['Rating'].count()"
   ]
  },
  {
   "cell_type": "markdown",
   "metadata": {},
   "source": [
    "Same query as above, but this time sorted by the ratings count and only show the top 5 values"
   ]
  },
  {
   "cell_type": "code",
   "execution_count": 14,
   "metadata": {},
   "outputs": [
    {
     "data": {
      "text/html": [
       "<div>\n",
       "<style>\n",
       "    .dataframe thead tr:only-child th {\n",
       "        text-align: right;\n",
       "    }\n",
       "\n",
       "    .dataframe thead th {\n",
       "        text-align: left;\n",
       "    }\n",
       "\n",
       "    .dataframe tbody tr th {\n",
       "        vertical-align: top;\n",
       "    }\n",
       "</style>\n",
       "<table border=\"1\" class=\"dataframe\">\n",
       "  <thead>\n",
       "    <tr style=\"text-align: right;\">\n",
       "      <th></th>\n",
       "      <th>ItemId</th>\n",
       "      <th>count</th>\n",
       "    </tr>\n",
       "  </thead>\n",
       "  <tbody>\n",
       "    <tr>\n",
       "      <th>49</th>\n",
       "      <td>50</td>\n",
       "      <td>583</td>\n",
       "    </tr>\n",
       "    <tr>\n",
       "      <th>257</th>\n",
       "      <td>258</td>\n",
       "      <td>509</td>\n",
       "    </tr>\n",
       "    <tr>\n",
       "      <th>99</th>\n",
       "      <td>100</td>\n",
       "      <td>508</td>\n",
       "    </tr>\n",
       "    <tr>\n",
       "      <th>180</th>\n",
       "      <td>181</td>\n",
       "      <td>507</td>\n",
       "    </tr>\n",
       "    <tr>\n",
       "      <th>293</th>\n",
       "      <td>294</td>\n",
       "      <td>485</td>\n",
       "    </tr>\n",
       "  </tbody>\n",
       "</table>\n",
       "</div>"
      ],
      "text/plain": [
       "     ItemId  count\n",
       "49       50    583\n",
       "257     258    509\n",
       "99      100    508\n",
       "180     181    507\n",
       "293     294    485"
      ]
     },
     "execution_count": 14,
     "metadata": {},
     "output_type": "execute_result"
    }
   ],
   "source": [
    "df_u_data.groupby(['ItemId'])['Rating'].count().reset_index(name='count').sort_values(['count'], ascending=False).head(5)"
   ]
  },
  {
   "cell_type": "markdown",
   "metadata": {},
   "source": [
    "Instead of count, other aggregate functions can also be used, like mean. So what is the average rating given by a user."
   ]
  },
  {
   "cell_type": "code",
   "execution_count": null,
   "metadata": {},
   "outputs": [],
   "source": [
    "df_u_data.groupby(['UserID'])['Rating'].mean()"
   ]
  },
  {
   "cell_type": "markdown",
   "metadata": {},
   "source": [
    "A simple mathematical function, with no aggregation on a column."
   ]
  },
  {
   "cell_type": "code",
   "execution_count": null,
   "metadata": {},
   "outputs": [],
   "source": [
    "df_u_data['Rating'].std()"
   ]
  },
  {
   "cell_type": "markdown",
   "metadata": {},
   "source": [
    "<h3>Step 6 - Some basic plots</h3>"
   ]
  },
  {
   "cell_type": "markdown",
   "metadata": {},
   "source": [
    "Create a simple histogram for the user activity, based on the rating criteria."
   ]
  },
  {
   "cell_type": "code",
   "execution_count": 15,
   "metadata": {},
   "outputs": [
    {
     "data": {
      "text/plain": [
       "(array([  6110.,      0.,  11370.,      0.,      0.,  27145.,      0.,\n",
       "         34174.,      0.,  21201.]),\n",
       " array([ 1. ,  1.4,  1.8,  2.2,  2.6,  3. ,  3.4,  3.8,  4.2,  4.6,  5. ]),\n",
       " <a list of 10 Patch objects>)"
      ]
     },
     "execution_count": 15,
     "metadata": {},
     "output_type": "execute_result"
    },
    {
     "data": {
      "image/png": "[encoded data removed]",
      "text/plain": [
       "<matplotlib.figure.Figure at 0x7f2c350cc2e8>"
      ]
     },
     "metadata": {},
     "output_type": "display_data"
    }
   ],
   "source": [
    "plt.hist(df_u_data['Rating'])"
   ]
  },
  {
   "cell_type": "markdown",
   "metadata": {},
   "source": [
    "Create a more complicated histogram, this time with the movie items being the criteria."
   ]
  },
  {
   "cell_type": "code",
   "execution_count": 16,
   "metadata": {},
   "outputs": [
    {
     "data": {
      "text/plain": [
       "(array([  1.14600000e+03,   2.49000000e+02,   1.39000000e+02,\n",
       "          6.70000000e+01,   3.80000000e+01,   2.40000000e+01,\n",
       "          7.00000000e+00,   5.00000000e+00,   6.00000000e+00,\n",
       "          1.00000000e+00]),\n",
       " array([   1. ,   59.2,  117.4,  175.6,  233.8,  292. ,  350.2,  408.4,\n",
       "         466.6,  524.8,  583. ]),\n",
       " <a list of 10 Patch objects>)"
      ]
     },
     "execution_count": 16,
     "metadata": {},
     "output_type": "execute_result"
    },
    {
     "data": {
      "image/png": "[encoded data removed]",
      "text/plain": [
       "<matplotlib.figure.Figure at 0x7f2c31a50d68>"
      ]
     },
     "metadata": {},
     "output_type": "display_data"
    }
   ],
   "source": [
    "plt.hist(df_u_data.groupby(['ItemId'])['Rating'].count())"
   ]
  },
  {
   "cell_type": "markdown",
   "metadata": {},
   "source": [
    "<h3>Step 7 - Additional plot types</h3>"
   ]
  },
  {
   "cell_type": "markdown",
   "metadata": {},
   "source": [
    "Let's visualize the generated ratings over time. For this a time series plot is required that would show the ratings given by users over a time period."
   ]
  },
  {
   "cell_type": "code",
   "execution_count": 21,
   "metadata": {},
   "outputs": [
    {
     "data": {
      "text/plain": [
       "[<matplotlib.lines.Line2D at 0x7f2c30f0ea58>]"
      ]
     },
     "execution_count": 21,
     "metadata": {},
     "output_type": "execute_result"
    },
    {
     "data": {
      "image/png": "[encoded data removed]",
      "text/plain": [
       "<matplotlib.figure.Figure at 0x7f2c30faf8d0>"
      ]
     },
     "metadata": {},
     "output_type": "display_data"
    }
   ],
   "source": [
    "plt.plot(df_u_data.groupby(['Timestamp'])['Rating'].mean().head(1000))"
   ]
  },
  {
   "cell_type": "markdown",
   "metadata": {},
   "source": [
    "Another type of plot is scatter plot. In this case we want to check the distribution of user ratings i.e. how are users more likely to rate a movie.\n",
    "\n",
    "In the first step, we first get a Series structure using the DataFrame as source. This Series structure is then again converted into a modified DataFrame and then the scatter plot function is used to plot the reduced DataFrame."
   ]
  },
  {
   "cell_type": "code",
   "execution_count": 22,
   "metadata": {},
   "outputs": [],
   "source": [
    "gp_sr = df_u_data.groupby(['UserID'])['Rating'].mean().head(500)\n",
    "gp_df = gp_sr.to_frame()\n",
    "gp_df.reset_index(inplace=True)\n",
    "gp_df.columns = ['UserID','M_Rating']"
   ]
  },
  {
   "cell_type": "code",
   "execution_count": 26,
   "metadata": {},
   "outputs": [
    {
     "data": {
      "text/plain": [
       "<matplotlib.axes._subplots.AxesSubplot at 0x7f2c30f167b8>"
      ]
     },
     "execution_count": 26,
     "metadata": {},
     "output_type": "execute_result"
    },
    {
     "data": {
      "image/png": "[encoded data removed]",
      "text/plain": [
       "<matplotlib.figure.Figure at 0x7f2c30e94dd8>"
      ]
     },
     "metadata": {},
     "output_type": "display_data"
    }
   ],
   "source": [
    "gp_df.plot(kind='scatter', x='UserID', y='M_Rating')"
   ]
  },
  {
   "cell_type": "code",
   "execution_count": null,
   "metadata": {},
   "outputs": [],
   "source": []
  }
 ],
 "metadata": {
  "kernelspec": {
   "display_name": "Python 3.6",
   "language": "python",
   "name": "python36"
  },
  "language_info": {
   "codemirror_mode": {
    "name": "ipython",
    "version": 3
   },
   "file_extension": ".py",
   "mimetype": "text/x-python",
   "name": "python",
   "nbconvert_exporter": "python",
   "pygments_lexer": "ipython3",
   "version": "3.6.3"
  }
 },
 "nbformat": 4,
 "nbformat_minor": 2
}
