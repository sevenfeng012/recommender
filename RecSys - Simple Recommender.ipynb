{
 "cells": [
  {
   "cell_type": "markdown",
   "metadata": {},
   "source": [
    "<h1>Simple Recommender</h1>\n",
    "A simple recommender that is based on the popularity/ratings of movies.\n",
    "\n",
    "The popularity-based recommender system will perform the following steps:\n",
    "1. Retrieve user, item and activity data\n",
    "2. Build the simple recommender\n",
    "3. Generate recommendations"
   ]
  },
  {
   "cell_type": "markdown",
   "metadata": {},
   "source": [
    "<h2>Step 1 - Retrieve Data</h2>\n",
    "The first step would always be to gather the data and pull it into the programming environment.\n",
    "\n",
    "For our use case, we download the MovieLens dataset containing three sets of data,\n",
    " - Movie data containing a certain movie's information, such as movieID, release date, URL, genre details, and so on\n",
    " - User data containing the user information, such as userID, age, gender, occupation, ZIP code, and so on\n",
    " - Ratings data containing userID, itemID, rating, timestamp"
   ]
  },
  {
   "cell_type": "code",
   "execution_count": null,
   "metadata": {},
   "outputs": [],
   "source": [
    "# Import the libraries that are going to be used here\n",
    "import pandas as pd\n",
    "import numpy as np\n",
    "import scipy\n",
    "import sklearn"
   ]
  },
  {
   "cell_type": "code",
   "execution_count": null,
   "metadata": {},
   "outputs": [],
   "source": [
    "# Column headers for the dataset\n",
    "data_cols = ['user id','movie id','rating','timestamp']\n",
    "item_cols = ['movie id','movie title','release date', 'video release date','IMDb URL','unknown','Action', 'Adventure','Animation','Childrens','Comedy','Crime', 'Documentary','Drama','Fantasy','Film-Noir','Horror', 'Musical','Mystery','Romance ','Sci-Fi','Thriller', 'War' ,'Western']\n",
    "user_cols = ['user id','age','gender','occupation', 'zip code']"
   ]
  },
  {
   "cell_type": "code",
   "execution_count": null,
   "metadata": {},
   "outputs": [],
   "source": [
    "# List of users\n",
    "df_u_user = pd.read_csv('/home/nbuser/library/dataset/u.user', header=None, sep='|', names=user_cols, encoding='latin-1')\n",
    "df_u_user = df_u_user.sort_values('user id', ascending=1)\n",
    "df_u_user.columns\n",
    "df_u_user.head(10)"
   ]
  },
  {
   "cell_type": "code",
   "execution_count": null,
   "metadata": {},
   "outputs": [],
   "source": [
    "# List of movie items\n",
    "df_u_item = pd.read_csv('/home/nbuser/library/dataset/u.item', header=None, sep='|', names=item_cols, encoding='latin-1')\n",
    "df_u_item = df_u_item.sort_values('movie id', ascending=1)\n",
    "df_u_item.columns\n",
    "df_u_item.head(10)"
   ]
  },
  {
   "cell_type": "code",
   "execution_count": null,
   "metadata": {},
   "outputs": [],
   "source": [
    "# User activity data\n",
    "df_u_data = pd.read_csv('/home/nbuser/library/dataset/u.data', header=None, sep='\\t', names=data_cols, encoding='latin-1')\n",
    "df_u_data = df_u_data.sort_values('user id', ascending=1)\n",
    "df_u_data.columns\n",
    "df_u_data.head(10)"
   ]
  },
  {
   "cell_type": "markdown",
   "metadata": {},
   "source": [
    "<h2>Step 2 - Building the Simple Recommender</h2>"
   ]
  },
  {
   "cell_type": "code",
   "execution_count": null,
   "metadata": {},
   "outputs": [],
   "source": [
    "#First we merge the three dataframes into one single dataframe\n",
    "\n",
    "#Create one data frame from the three\n",
    "dataset = pd.merge(pd.merge(df_u_item, df_u_data), df_u_user)\n",
    "dataset.head(10)"
   ]
  },
  {
   "cell_type": "markdown",
   "metadata": {},
   "source": [
    "Next we use groupby to group the movies by their titles. Then we use the size function to returns the total number of entries under each movie title. This will help us get the number of people who rated the movie/ the number of ratings.\n",
    "\n"
   ]
  },
  {
   "cell_type": "code",
   "execution_count": null,
   "metadata": {},
   "outputs": [],
   "source": [
    "ratings_total = dataset.groupby('movie title').size()\n",
    "print(ratings_total.head())"
   ]
  },
  {
   "cell_type": "markdown",
   "metadata": {},
   "source": [
    "Next we try to take the mean ratings of each movie using the mean function. First we groupby movie title. From the resulting dataframe we select only the movie title and the rating headers. Then we use the mean function on them.\n",
    "\n"
   ]
  },
  {
   "cell_type": "code",
   "execution_count": null,
   "metadata": {},
   "outputs": [],
   "source": [
    "ratings_mean = (dataset.groupby('movie title'))['movie title','rating'].mean()\n",
    "print(ratings_mean.head())"
   ]
  },
  {
   "cell_type": "markdown",
   "metadata": {},
   "source": [
    "Now if you check ratings_total then you will find its a Series and not a Data Frame. So we will convert that into a dataframe. In the ratings_mean we will see that the movie title has been converted from a column to an index. So we make that a column again."
   ]
  },
  {
   "cell_type": "code",
   "execution_count": null,
   "metadata": {},
   "outputs": [],
   "source": [
    "#modify the dataframes so that we can merge the two\n",
    "ratings_total = pd.DataFrame({'movie title':ratings_total.index, 'total ratings': ratings_total.values})\n",
    "ratings_mean['movie title'] = ratings_mean.index"
   ]
  },
  {
   "cell_type": "markdown",
   "metadata": {},
   "source": [
    "Now we head for the merging part. Now we sort the values by the total rating and this helps us sort the data frame by the number of people who viewed the movie"
   ]
  },
  {
   "cell_type": "code",
   "execution_count": null,
   "metadata": {},
   "outputs": [],
   "source": [
    "final = pd.merge(ratings_mean, ratings_total).sort_values(by = 'total ratings', ascending= False)\n",
    "print(final.head())"
   ]
  },
  {
   "cell_type": "markdown",
   "metadata": {},
   "source": [
    "We need to look at the basic characteristics of the data to determine the minimum cutoff of total ratings. Because its not reliable to recommend a movie with a high mean rating that has been rated by only 10 people."
   ]
  },
  {
   "cell_type": "markdown",
   "metadata": {},
   "source": [
    "<h2>Step 3 - Generating Recommendations</h2>"
   ]
  },
  {
   "cell_type": "code",
   "execution_count": null,
   "metadata": {},
   "outputs": [],
   "source": [
    "print(final.describe())\n",
    "final = final[:300].sort_values(by = 'rating', ascending = False)\n",
    "print(final.head())"
   ]
  }
 ],
 "metadata": {
  "kernelspec": {
   "display_name": "Python 3.6",
   "language": "python",
   "name": "python36"
  },
  "language_info": {
   "codemirror_mode": {
    "name": "ipython",
    "version": 3
   },
   "file_extension": ".py",
   "mimetype": "text/x-python",
   "name": "python",
   "nbconvert_exporter": "python",
   "pygments_lexer": "ipython3",
   "version": "3.6.3"
  }
 },
 "nbformat": 4,
 "nbformat_minor": 2
}
