{
 "cells": [
  {
   "cell_type": "markdown",
   "metadata": {},
   "source": [
    "<h1>User-Based Collaborative Filtering</h1>\n",
    "![Recommendation Systems Approaches](https://raw.githubusercontent.com/ziababar/recommender/master/images/Recommendation%20Systems.jpg)\n",
    "A recommender that is based on the user-based collaborative filtering approach."
   ]
  },
  {
   "cell_type": "markdown",
   "metadata": {},
   "source": [
    "The recommender system will perform the following steps:\n",
    "1. Retrieve item and activity data\n",
    "2. Build the recommendation engine\n",
    "3. Generate recommendations\n",
    "![Collaborative Filtering](https://raw.githubusercontent.com/ziababar/recommender/master/images/collaborative-filtering.png)"
   ]
  },
  {
   "cell_type": "markdown",
   "metadata": {},
   "source": [
    "<h2>Step 1 - Retrieve Data</h2>\n",
    "The first step would always be to gather the data and pull it into the programming environment.\n",
    "For our use case, we download the MovieLens dataset containing three sets of data,\n",
    "\n",
    "- Movie data containing a certain movie's information, such as movieID, release date, URL, genre details, and so on\n",
    "- User data containing the user information, such as userID, age, gender, occupation, ZIP code, and so on\n",
    "- Ratings data containing userID, itemID, rating, timestamp"
   ]
  },
  {
   "cell_type": "code",
   "execution_count": null,
   "metadata": {},
   "outputs": [],
   "source": [
    "# Import the libraries that are going to be used here\n",
    "import pandas as pd\n",
    "import numpy as np\n",
    "import scipy\n",
    "import sklearn"
   ]
  },
  {
   "cell_type": "code",
   "execution_count": null,
   "metadata": {},
   "outputs": [],
   "source": [
    "# Column headers for the dataset\n",
    "data_cols = ['user id','movie id','rating','timestamp']\n",
    "item_cols = ['movie id','movie title','release date', 'video release date','IMDb URL','unknown','Action', 'Adventure','Animation','Childrens','Comedy','Crime', 'Documentary','Drama','Fantasy','Film-Noir','Horror', 'Musical','Mystery','Romance ','Sci-Fi','Thriller', 'War' ,'Western']\n",
    "user_cols = ['user id','age','gender','occupation', 'zip code']"
   ]
  },
  {
   "cell_type": "code",
   "execution_count": null,
   "metadata": {},
   "outputs": [],
   "source": [
    "# User activity data\n",
    "df_u_data = pd.read_csv('/home/nbuser/library/dataset/u.data', header=None, sep='\\t', names=data_cols, encoding='latin-1')\n",
    "df_u_data = df_u_data.sort_values('user id', ascending=1)\n",
    "df_u_data.columns\n",
    "df_u_data.head(5)"
   ]
  },
  {
   "cell_type": "code",
   "execution_count": null,
   "metadata": {},
   "outputs": [],
   "source": [
    "# List of movie items\n",
    "df_u_item = pd.read_csv('/home/nbuser/library/dataset/u.item', header=None, sep='|', names=item_cols, encoding='latin-1')\n",
    "df_u_item = df_u_item.sort_values('movie id', ascending=1)\n",
    "df_u_item.columns\n",
    "df_u_item.head(5)"
   ]
  },
  {
   "cell_type": "markdown",
   "metadata": {},
   "source": [
    "<h2>Step 2 - Determine Similar Users</h2>"
   ]
  },
  {
   "cell_type": "markdown",
   "metadata": {},
   "source": [
    "![User-Based Collaborative Filtering](https://raw.githubusercontent.com/ziababar/recommender/master/images/user-based.png)"
   ]
  },
  {
   "cell_type": "markdown",
   "metadata": {},
   "source": [
    "There are multiple ways to determine similarity between users or items. Some common approaches used in recommendation systems include,\n",
    " - Neighbourhood-based techniques\n",
    "   - Euclidean distance\n",
    "   - Cosine similarity\n",
    "   - Jaccard similarity\n",
    "   - Pearson correlation coefficient\n",
    " - Clustering techniques\n",
    "   - K-means clustering\n",
    "   \n",
    "In this example, we'll be using Pearson correlation coefficient to determine similar items."
   ]
  },
  {
   "cell_type": "markdown",
   "metadata": {},
   "source": [
    "Merge the two dataframes into one single dataframe. This allows the depiction of all the transactional activity in one single dataframe, leading to better and faster analysis."
   ]
  },
  {
   "cell_type": "code",
   "execution_count": null,
   "metadata": {},
   "outputs": [],
   "source": [
    "ratings = pd.merge(df_u_item, df_u_data)\n",
    "ratings.head(5)"
   ]
  },
  {
   "cell_type": "markdown",
   "metadata": {},
   "source": [
    "Now we'll pivot this table to construct a nice matrix of users and the movies they rated. NaN indicates missing data, or movies that a given user did not watch:"
   ]
  },
  {
   "cell_type": "code",
   "execution_count": null,
   "metadata": {},
   "outputs": [],
   "source": [
    "userRatings = ratings.pivot_table(index=['user id'], columns=['movie title'], values='rating')\n",
    "userRatings.head(5)"
   ]
  },
  {
   "cell_type": "markdown",
   "metadata": {},
   "source": [
    "From the user rating dataframe above, create a correlation matrix. This gives us a correlation score between every pair of movies (where at least one user rated both movies - otherwise NaN's will show up.)"
   ]
  },
  {
   "cell_type": "code",
   "execution_count": null,
   "metadata": {},
   "outputs": [],
   "source": [
    "# Use pandas built-in corr() method that will compute a correlation score for every column pair in the matrix\n",
    "corrMatrix = userRatings.corr()\n",
    "corrMatrix.head()"
   ]
  },
  {
   "cell_type": "markdown",
   "metadata": {},
   "source": [
    "Eliminate spurious results that happened from just a handful of users that happened to rate the same pair of movies. This restricts our results to movies that lots of people rated together - and also give us more popular results that are more easily recongnizable."
   ]
  },
  {
   "cell_type": "code",
   "execution_count": null,
   "metadata": {},
   "outputs": [],
   "source": [
    "# Use the min_periods argument to throw out results where fewer than 100 users rated a given movie pair\n",
    "corrMatrix = userRatings.corr(method='pearson', min_periods=100)\n",
    "corrMatrix.head()"
   ]
  },
  {
   "cell_type": "markdown",
   "metadata": {},
   "source": [
    "<h2>Step 3 - Generate Recommendations</h2>"
   ]
  },
  {
   "cell_type": "markdown",
   "metadata": {},
   "source": [
    "Produce movie recommendations for a test user ID. Generally the input data would be divided into training and testing segments, with the recommendations being produced for users that were not part of the training data. This would permit the evaluation of the recommendation model. However, here we keep things simple and just reuse one of the actual users from the training data to see how the recommendation mode works."
   ]
  },
  {
   "cell_type": "code",
   "execution_count": null,
   "metadata": {},
   "outputs": [],
   "source": [
    "# Retrieve ratings made by user 1\n",
    "myRatings = userRatings.loc[1].dropna()\n",
    "myRatings"
   ]
  },
  {
   "cell_type": "markdown",
   "metadata": {},
   "source": [
    "Let's go through each movie rated one at a time, and build up a list of possible recommendations based on the movies similar to the ones that the user rated. This is done as follows,\n",
    " - For each movie rated, retrieve the list of similar movies from the correlation matrix\n",
    " - Scale those correlation scores by how well the movie (originally rated by the user) to the similar movies\n",
    " - Thus movies similar to ones the user likes count more than movies similar to ones the user hates"
   ]
  },
  {
   "cell_type": "code",
   "execution_count": null,
   "metadata": {},
   "outputs": [],
   "source": [
    "simCandidates = pd.Series()\n",
    "for i in range(0, len(myRatings.index)):\n",
    "    print (\"Adding sims for \" + myRatings.index[i] + \"...\")\n",
    "    # Retrieve similar movies to this one that I rated\n",
    "    sims = corrMatrix[myRatings.index[i]].dropna()\n",
    "    # Now scale its similarity by how well I rated this movie\n",
    "    sims = sims.map(lambda x: x * myRatings[i])\n",
    "    # Add the score to the list of similarity candidates\n",
    "    simCandidates = simCandidates.append(sims)"
   ]
  },
  {
   "cell_type": "code",
   "execution_count": null,
   "metadata": {},
   "outputs": [],
   "source": [
    "#Glance at the similar movie candidates results so far:\n",
    "simCandidates.sort_values(inplace = True, ascending = False)\n",
    "simCandidates.head(5)"
   ]
  },
  {
   "cell_type": "markdown",
   "metadata": {},
   "source": [
    "Some of the same movies came up more than once, because they were similar to more than one movie originally rated by the user. Use groupby() to add together the scores from movies that show up more than once, so they'll count more:"
   ]
  },
  {
   "cell_type": "code",
   "execution_count": null,
   "metadata": {},
   "outputs": [],
   "source": [
    "simCandidates = simCandidates.groupby(simCandidates.index).sum()\n",
    "simCandidates.sort_values(inplace = True, ascending = False)\n",
    "simCandidates.head(10)"
   ]
  },
  {
   "cell_type": "code",
   "execution_count": null,
   "metadata": {},
   "outputs": [],
   "source": []
  }
 ],
 "metadata": {
  "kernelspec": {
   "display_name": "Python 3",
   "language": "python",
   "name": "python3"
  },
  "language_info": {
   "codemirror_mode": {
    "name": "ipython",
    "version": 3
   },
   "file_extension": ".py",
   "mimetype": "text/x-python",
   "name": "python",
   "nbconvert_exporter": "python",
   "pygments_lexer": "ipython3",
   "version": "3.5.4"
  }
 },
 "nbformat": 4,
 "nbformat_minor": 1
}
